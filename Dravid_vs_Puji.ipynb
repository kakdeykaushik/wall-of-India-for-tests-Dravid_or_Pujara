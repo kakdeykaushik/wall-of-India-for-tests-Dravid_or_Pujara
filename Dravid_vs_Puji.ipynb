{
  "nbformat": 4,
  "nbformat_minor": 0,
  "metadata": {
    "colab": {
      "name": "Dravid vs Puji.ipynb",
      "provenance": [],
      "collapsed_sections": []
    },
    "kernelspec": {
      "name": "python3",
      "display_name": "Python 3"
    },
    "language_info": {
      "name": "python"
    }
  },
  "cells": [
    {
      "cell_type": "code",
      "metadata": {
        "id": "UGZcI-WKmDRz"
      },
      "source": [
        "import pandas as pd\n",
        "import matplotlib.pyplot as plt\n",
        "import seaborn as sns"
      ],
      "execution_count": null,
      "outputs": []
    },
    {
      "cell_type": "code",
      "metadata": {
        "colab": {
          "base_uri": "https://localhost:8080/"
        },
        "id": "sotkTy-vm26L",
        "outputId": "74c859a2-c8d2-4abb-c66f-aa04aa3fcba4"
      },
      "source": [
        "df_20th = pd.read_csv(\"/content/drive/MyDrive/cric/test/Men Test Player Innings Stats - 20th Century.csv\")\n",
        "df_21st = pd.read_csv(\"/content/drive/MyDrive/cric/test/Men Test Player Innings Stats - 21st Century.csv\")"
      ],
      "execution_count": null,
      "outputs": [
        {
          "output_type": "stream",
          "text": [
            "/usr/local/lib/python3.7/dist-packages/IPython/core/interactiveshell.py:2718: DtypeWarning: Columns (2,18,20,21,22,27) have mixed types.Specify dtype option on import or set low_memory=False.\n",
            "  interactivity=interactivity, compiler=compiler, result=result)\n"
          ],
          "name": "stderr"
        }
      ]
    },
    {
      "cell_type": "code",
      "metadata": {
        "id": "_h6_FEZcrC-s",
        "colab": {
          "base_uri": "https://localhost:8080/",
          "height": 326
        },
        "outputId": "13931ead-8c78-4499-a79b-237f8bebeaae"
      },
      "source": [
        "df_20th.head()"
      ],
      "execution_count": null,
      "outputs": [
        {
          "output_type": "execute_result",
          "data": {
            "text/html": [
              "<div>\n",
              "<style scoped>\n",
              "    .dataframe tbody tr th:only-of-type {\n",
              "        vertical-align: middle;\n",
              "    }\n",
              "\n",
              "    .dataframe tbody tr th {\n",
              "        vertical-align: top;\n",
              "    }\n",
              "\n",
              "    .dataframe thead th {\n",
              "        text-align: right;\n",
              "    }\n",
              "</style>\n",
              "<table border=\"1\" class=\"dataframe\">\n",
              "  <thead>\n",
              "    <tr style=\"text-align: right;\">\n",
              "      <th></th>\n",
              "      <th>Innings Player</th>\n",
              "      <th>Innings Runs Scored</th>\n",
              "      <th>Innings Runs Scored Num</th>\n",
              "      <th>Innings Minutes Batted</th>\n",
              "      <th>Innings Batted Flag</th>\n",
              "      <th>Innings Not Out Flag</th>\n",
              "      <th>Innings Balls Faced</th>\n",
              "      <th>Innings Boundary Fours</th>\n",
              "      <th>Innings Boundary Sixes</th>\n",
              "      <th>Innings Batting Strike Rate</th>\n",
              "      <th>Innings Number</th>\n",
              "      <th>Opposition</th>\n",
              "      <th>Ground</th>\n",
              "      <th>Innings Date</th>\n",
              "      <th>Country</th>\n",
              "      <th>50's</th>\n",
              "      <th>100's</th>\n",
              "      <th>Innings Runs Scored Buckets</th>\n",
              "      <th>Innings Overs Bowled</th>\n",
              "      <th>Innings Bowled Flag</th>\n",
              "      <th>Innings Maidens Bowled</th>\n",
              "      <th>Innings Runs Conceded</th>\n",
              "      <th>Innings Wickets Taken</th>\n",
              "      <th>4 Wickets</th>\n",
              "      <th>5 Wickets</th>\n",
              "      <th>10 Wickets</th>\n",
              "      <th>Innings Wickets Taken Buckets</th>\n",
              "      <th>Innings Economy Rate</th>\n",
              "    </tr>\n",
              "  </thead>\n",
              "  <tbody>\n",
              "    <tr>\n",
              "      <th>0</th>\n",
              "      <td>L Hutton</td>\n",
              "      <td>364</td>\n",
              "      <td>364</td>\n",
              "      <td>797</td>\n",
              "      <td>1.0</td>\n",
              "      <td>0.0</td>\n",
              "      <td>847</td>\n",
              "      <td>35</td>\n",
              "      <td>0</td>\n",
              "      <td>42.97</td>\n",
              "      <td>1</td>\n",
              "      <td>v Australia</td>\n",
              "      <td>The Oval</td>\n",
              "      <td>1938/08/20</td>\n",
              "      <td>England</td>\n",
              "      <td>0.0</td>\n",
              "      <td>1.0</td>\n",
              "      <td>200+</td>\n",
              "      <td>NaN</td>\n",
              "      <td>NaN</td>\n",
              "      <td>NaN</td>\n",
              "      <td>NaN</td>\n",
              "      <td>NaN</td>\n",
              "      <td>NaN</td>\n",
              "      <td>NaN</td>\n",
              "      <td>NaN</td>\n",
              "      <td>NaN</td>\n",
              "      <td>NaN</td>\n",
              "    </tr>\n",
              "    <tr>\n",
              "      <th>1</th>\n",
              "      <td>WR Hammond</td>\n",
              "      <td>336*</td>\n",
              "      <td>336</td>\n",
              "      <td>318</td>\n",
              "      <td>1.0</td>\n",
              "      <td>1.0</td>\n",
              "      <td>-</td>\n",
              "      <td>34</td>\n",
              "      <td>10</td>\n",
              "      <td>-</td>\n",
              "      <td>2</td>\n",
              "      <td>v New Zealand</td>\n",
              "      <td>Auckland</td>\n",
              "      <td>1933/03/31</td>\n",
              "      <td>England</td>\n",
              "      <td>0.0</td>\n",
              "      <td>1.0</td>\n",
              "      <td>200+</td>\n",
              "      <td>NaN</td>\n",
              "      <td>NaN</td>\n",
              "      <td>NaN</td>\n",
              "      <td>NaN</td>\n",
              "      <td>NaN</td>\n",
              "      <td>NaN</td>\n",
              "      <td>NaN</td>\n",
              "      <td>NaN</td>\n",
              "      <td>NaN</td>\n",
              "      <td>NaN</td>\n",
              "    </tr>\n",
              "    <tr>\n",
              "      <th>2</th>\n",
              "      <td>GA Gooch</td>\n",
              "      <td>333</td>\n",
              "      <td>333</td>\n",
              "      <td>628</td>\n",
              "      <td>1.0</td>\n",
              "      <td>0.0</td>\n",
              "      <td>485</td>\n",
              "      <td>43</td>\n",
              "      <td>3</td>\n",
              "      <td>68.65</td>\n",
              "      <td>1</td>\n",
              "      <td>v India</td>\n",
              "      <td>Lord's</td>\n",
              "      <td>1990/07/26</td>\n",
              "      <td>England</td>\n",
              "      <td>0.0</td>\n",
              "      <td>1.0</td>\n",
              "      <td>200+</td>\n",
              "      <td>NaN</td>\n",
              "      <td>NaN</td>\n",
              "      <td>NaN</td>\n",
              "      <td>NaN</td>\n",
              "      <td>NaN</td>\n",
              "      <td>NaN</td>\n",
              "      <td>NaN</td>\n",
              "      <td>NaN</td>\n",
              "      <td>NaN</td>\n",
              "      <td>NaN</td>\n",
              "    </tr>\n",
              "    <tr>\n",
              "      <th>3</th>\n",
              "      <td>A Sandham</td>\n",
              "      <td>325</td>\n",
              "      <td>325</td>\n",
              "      <td>600</td>\n",
              "      <td>1.0</td>\n",
              "      <td>0.0</td>\n",
              "      <td>640</td>\n",
              "      <td>28</td>\n",
              "      <td>0</td>\n",
              "      <td>50.78</td>\n",
              "      <td>1</td>\n",
              "      <td>v West Indies</td>\n",
              "      <td>Kingston</td>\n",
              "      <td>1930/04/03</td>\n",
              "      <td>England</td>\n",
              "      <td>0.0</td>\n",
              "      <td>1.0</td>\n",
              "      <td>200+</td>\n",
              "      <td>NaN</td>\n",
              "      <td>NaN</td>\n",
              "      <td>NaN</td>\n",
              "      <td>NaN</td>\n",
              "      <td>NaN</td>\n",
              "      <td>NaN</td>\n",
              "      <td>NaN</td>\n",
              "      <td>NaN</td>\n",
              "      <td>NaN</td>\n",
              "      <td>NaN</td>\n",
              "    </tr>\n",
              "    <tr>\n",
              "      <th>4</th>\n",
              "      <td>JH Edrich</td>\n",
              "      <td>310*</td>\n",
              "      <td>310</td>\n",
              "      <td>532</td>\n",
              "      <td>1.0</td>\n",
              "      <td>1.0</td>\n",
              "      <td>450</td>\n",
              "      <td>52</td>\n",
              "      <td>5</td>\n",
              "      <td>68.88</td>\n",
              "      <td>1</td>\n",
              "      <td>v New Zealand</td>\n",
              "      <td>Leeds</td>\n",
              "      <td>1965/07/08</td>\n",
              "      <td>England</td>\n",
              "      <td>0.0</td>\n",
              "      <td>1.0</td>\n",
              "      <td>200+</td>\n",
              "      <td>NaN</td>\n",
              "      <td>NaN</td>\n",
              "      <td>NaN</td>\n",
              "      <td>NaN</td>\n",
              "      <td>NaN</td>\n",
              "      <td>NaN</td>\n",
              "      <td>NaN</td>\n",
              "      <td>NaN</td>\n",
              "      <td>NaN</td>\n",
              "      <td>NaN</td>\n",
              "    </tr>\n",
              "  </tbody>\n",
              "</table>\n",
              "</div>"
            ],
            "text/plain": [
              "  Innings Player  ... Innings Economy Rate\n",
              "0       L Hutton  ...                  NaN\n",
              "1     WR Hammond  ...                  NaN\n",
              "2       GA Gooch  ...                  NaN\n",
              "3      A Sandham  ...                  NaN\n",
              "4      JH Edrich  ...                  NaN\n",
              "\n",
              "[5 rows x 28 columns]"
            ]
          },
          "metadata": {
            "tags": []
          },
          "execution_count": 3
        }
      ]
    },
    {
      "cell_type": "code",
      "metadata": {
        "colab": {
          "base_uri": "https://localhost:8080/"
        },
        "id": "J2JeF-E8sN-_",
        "outputId": "c405acde-c112-40a9-8e7f-608af5bd0220"
      },
      "source": [
        "df_20th.dtypes"
      ],
      "execution_count": null,
      "outputs": [
        {
          "output_type": "execute_result",
          "data": {
            "text/plain": [
              "Innings Player                    object\n",
              "Innings Runs Scored               object\n",
              "Innings Runs Scored Num           object\n",
              "Innings Minutes Batted            object\n",
              "Innings Batted Flag              float64\n",
              "Innings Not Out Flag             float64\n",
              "Innings Balls Faced               object\n",
              "Innings Boundary Fours            object\n",
              "Innings Boundary Sixes            object\n",
              "Innings Batting Strike Rate       object\n",
              "Innings Number                    object\n",
              "Opposition                        object\n",
              "Ground                            object\n",
              "Innings Date                      object\n",
              "Country                           object\n",
              "50's                             float64\n",
              "100's                            float64\n",
              "Innings Runs Scored Buckets       object\n",
              "Innings Overs Bowled              object\n",
              "Innings Bowled Flag              float64\n",
              "Innings Maidens Bowled            object\n",
              "Innings Runs Conceded             object\n",
              "Innings Wickets Taken             object\n",
              "4 Wickets                        float64\n",
              "5 Wickets                        float64\n",
              "10 Wickets                       float64\n",
              "Innings Wickets Taken Buckets     object\n",
              "Innings Economy Rate              object\n",
              "dtype: object"
            ]
          },
          "metadata": {
            "tags": []
          },
          "execution_count": 4
        }
      ]
    },
    {
      "cell_type": "code",
      "metadata": {
        "id": "PSW-niTRjsl3"
      },
      "source": [
        "df_20th.drop_duplicates(inplace=True)\n",
        "df_21st.drop_duplicates(inplace=True)"
      ],
      "execution_count": null,
      "outputs": []
    },
    {
      "cell_type": "code",
      "metadata": {
        "id": "JmlHqfDNu68C"
      },
      "source": [
        "# converting Innings Date into datetime format\n",
        "df_20th[\"Innings Date\"] = pd.to_datetime(df_20th[\"Innings Date\"])\n",
        "df_21st[\"Innings Date\"] = pd.to_datetime(df_21st[\"Innings Date\"])"
      ],
      "execution_count": null,
      "outputs": []
    },
    {
      "cell_type": "code",
      "metadata": {
        "id": "zWaCLkyXd3hK"
      },
      "source": [
        "# valid timelines\n",
        "df_20th[\"year\"] = df_20th[\"Innings Date\"].dt.year\n",
        "df_21st[\"year\"] = df_21st[\"Innings Date\"].dt.year\n",
        "\n",
        "temp_df1 = df_20th[df_20th[\"year\"] >= 1997]\n",
        "temp_df2 = df_21st[df_21st[\"year\"] <= 2004]\n",
        "\n",
        "\n",
        "df_pujara = df_21st[(df_21st[\"year\"] >= 2012) & (df_21st[\"year\"] <= 2019)]\n",
        "df_dravid = pd.concat([temp_df1, temp_df2])"
      ],
      "execution_count": null,
      "outputs": []
    },
    {
      "cell_type": "code",
      "metadata": {
        "id": "dtvCwwqahMMG",
        "colab": {
          "base_uri": "https://localhost:8080/",
          "height": 360
        },
        "outputId": "43b48cb4-9033-4042-aad4-d3ebd235c9bd"
      },
      "source": [
        "df_dravid.head()"
      ],
      "execution_count": null,
      "outputs": [
        {
          "output_type": "execute_result",
          "data": {
            "text/html": [
              "<div>\n",
              "<style scoped>\n",
              "    .dataframe tbody tr th:only-of-type {\n",
              "        vertical-align: middle;\n",
              "    }\n",
              "\n",
              "    .dataframe tbody tr th {\n",
              "        vertical-align: top;\n",
              "    }\n",
              "\n",
              "    .dataframe thead th {\n",
              "        text-align: right;\n",
              "    }\n",
              "</style>\n",
              "<table border=\"1\" class=\"dataframe\">\n",
              "  <thead>\n",
              "    <tr style=\"text-align: right;\">\n",
              "      <th></th>\n",
              "      <th>Innings Player</th>\n",
              "      <th>Innings Runs Scored</th>\n",
              "      <th>Innings Runs Scored Num</th>\n",
              "      <th>Innings Minutes Batted</th>\n",
              "      <th>Innings Batted Flag</th>\n",
              "      <th>Innings Not Out Flag</th>\n",
              "      <th>Innings Balls Faced</th>\n",
              "      <th>Innings Boundary Fours</th>\n",
              "      <th>Innings Boundary Sixes</th>\n",
              "      <th>Innings Batting Strike Rate</th>\n",
              "      <th>Innings Number</th>\n",
              "      <th>Opposition</th>\n",
              "      <th>Ground</th>\n",
              "      <th>Innings Date</th>\n",
              "      <th>Country</th>\n",
              "      <th>50's</th>\n",
              "      <th>100's</th>\n",
              "      <th>Innings Runs Scored Buckets</th>\n",
              "      <th>Innings Overs Bowled</th>\n",
              "      <th>Innings Bowled Flag</th>\n",
              "      <th>Innings Maidens Bowled</th>\n",
              "      <th>Innings Runs Conceded</th>\n",
              "      <th>Innings Wickets Taken</th>\n",
              "      <th>4 Wickets</th>\n",
              "      <th>5 Wickets</th>\n",
              "      <th>10 Wickets</th>\n",
              "      <th>Innings Wickets Taken Buckets</th>\n",
              "      <th>Innings Economy Rate</th>\n",
              "      <th>year</th>\n",
              "    </tr>\n",
              "  </thead>\n",
              "  <tbody>\n",
              "    <tr>\n",
              "      <th>28</th>\n",
              "      <td>N Hussain</td>\n",
              "      <td>207</td>\n",
              "      <td>207</td>\n",
              "      <td>437</td>\n",
              "      <td>1.0</td>\n",
              "      <td>0.0</td>\n",
              "      <td>337</td>\n",
              "      <td>38</td>\n",
              "      <td>0</td>\n",
              "      <td>61.42</td>\n",
              "      <td>2</td>\n",
              "      <td>v Australia</td>\n",
              "      <td>Birmingham</td>\n",
              "      <td>1997-06-05</td>\n",
              "      <td>England</td>\n",
              "      <td>0.0</td>\n",
              "      <td>1.0</td>\n",
              "      <td>200+</td>\n",
              "      <td>NaN</td>\n",
              "      <td>NaN</td>\n",
              "      <td>NaN</td>\n",
              "      <td>NaN</td>\n",
              "      <td>NaN</td>\n",
              "      <td>NaN</td>\n",
              "      <td>NaN</td>\n",
              "      <td>NaN</td>\n",
              "      <td>NaN</td>\n",
              "      <td>NaN</td>\n",
              "      <td>1997</td>\n",
              "    </tr>\n",
              "    <tr>\n",
              "      <th>83</th>\n",
              "      <td>AJ Stewart</td>\n",
              "      <td>173</td>\n",
              "      <td>173</td>\n",
              "      <td>362</td>\n",
              "      <td>1.0</td>\n",
              "      <td>0.0</td>\n",
              "      <td>277</td>\n",
              "      <td>23</td>\n",
              "      <td>1</td>\n",
              "      <td>62.45</td>\n",
              "      <td>2</td>\n",
              "      <td>v New Zealand</td>\n",
              "      <td>Auckland</td>\n",
              "      <td>1997-01-24</td>\n",
              "      <td>England</td>\n",
              "      <td>0.0</td>\n",
              "      <td>1.0</td>\n",
              "      <td>150-199</td>\n",
              "      <td>NaN</td>\n",
              "      <td>NaN</td>\n",
              "      <td>NaN</td>\n",
              "      <td>NaN</td>\n",
              "      <td>NaN</td>\n",
              "      <td>NaN</td>\n",
              "      <td>NaN</td>\n",
              "      <td>NaN</td>\n",
              "      <td>NaN</td>\n",
              "      <td>NaN</td>\n",
              "      <td>1997</td>\n",
              "    </tr>\n",
              "    <tr>\n",
              "      <th>101</th>\n",
              "      <td>AJ Stewart</td>\n",
              "      <td>164</td>\n",
              "      <td>164</td>\n",
              "      <td>418</td>\n",
              "      <td>1.0</td>\n",
              "      <td>0.0</td>\n",
              "      <td>317</td>\n",
              "      <td>24</td>\n",
              "      <td>0</td>\n",
              "      <td>51.73</td>\n",
              "      <td>3</td>\n",
              "      <td>v South Africa</td>\n",
              "      <td>Manchester</td>\n",
              "      <td>1998-07-02</td>\n",
              "      <td>England</td>\n",
              "      <td>0.0</td>\n",
              "      <td>1.0</td>\n",
              "      <td>150-199</td>\n",
              "      <td>NaN</td>\n",
              "      <td>NaN</td>\n",
              "      <td>NaN</td>\n",
              "      <td>NaN</td>\n",
              "      <td>NaN</td>\n",
              "      <td>NaN</td>\n",
              "      <td>NaN</td>\n",
              "      <td>NaN</td>\n",
              "      <td>NaN</td>\n",
              "      <td>NaN</td>\n",
              "      <td>1998</td>\n",
              "    </tr>\n",
              "    <tr>\n",
              "      <th>123</th>\n",
              "      <td>JP Crawley</td>\n",
              "      <td>156*</td>\n",
              "      <td>156</td>\n",
              "      <td>318</td>\n",
              "      <td>1.0</td>\n",
              "      <td>1.0</td>\n",
              "      <td>249</td>\n",
              "      <td>19</td>\n",
              "      <td>1</td>\n",
              "      <td>62.65</td>\n",
              "      <td>1</td>\n",
              "      <td>v Sri Lanka</td>\n",
              "      <td>The Oval</td>\n",
              "      <td>1998-08-27</td>\n",
              "      <td>England</td>\n",
              "      <td>0.0</td>\n",
              "      <td>1.0</td>\n",
              "      <td>150-199</td>\n",
              "      <td>NaN</td>\n",
              "      <td>NaN</td>\n",
              "      <td>NaN</td>\n",
              "      <td>NaN</td>\n",
              "      <td>NaN</td>\n",
              "      <td>NaN</td>\n",
              "      <td>NaN</td>\n",
              "      <td>NaN</td>\n",
              "      <td>NaN</td>\n",
              "      <td>NaN</td>\n",
              "      <td>1998</td>\n",
              "    </tr>\n",
              "    <tr>\n",
              "      <th>133</th>\n",
              "      <td>MR Ramprakash</td>\n",
              "      <td>154</td>\n",
              "      <td>154</td>\n",
              "      <td>528</td>\n",
              "      <td>1.0</td>\n",
              "      <td>0.0</td>\n",
              "      <td>388</td>\n",
              "      <td>20</td>\n",
              "      <td>0</td>\n",
              "      <td>39.69</td>\n",
              "      <td>1</td>\n",
              "      <td>v West Indies</td>\n",
              "      <td>Bridgetown</td>\n",
              "      <td>1998-03-12</td>\n",
              "      <td>England</td>\n",
              "      <td>0.0</td>\n",
              "      <td>1.0</td>\n",
              "      <td>150-199</td>\n",
              "      <td>NaN</td>\n",
              "      <td>NaN</td>\n",
              "      <td>NaN</td>\n",
              "      <td>NaN</td>\n",
              "      <td>NaN</td>\n",
              "      <td>NaN</td>\n",
              "      <td>NaN</td>\n",
              "      <td>NaN</td>\n",
              "      <td>NaN</td>\n",
              "      <td>NaN</td>\n",
              "      <td>1998</td>\n",
              "    </tr>\n",
              "  </tbody>\n",
              "</table>\n",
              "</div>"
            ],
            "text/plain": [
              "    Innings Player Innings Runs Scored  ... Innings Economy Rate  year\n",
              "28       N Hussain                 207  ...                  NaN  1997\n",
              "83      AJ Stewart                 173  ...                  NaN  1997\n",
              "101     AJ Stewart                 164  ...                  NaN  1998\n",
              "123     JP Crawley                156*  ...                  NaN  1998\n",
              "133  MR Ramprakash                 154  ...                  NaN  1998\n",
              "\n",
              "[5 rows x 29 columns]"
            ]
          },
          "metadata": {
            "tags": []
          },
          "execution_count": 8
        }
      ]
    },
    {
      "cell_type": "markdown",
      "metadata": {
        "id": "It7ElkvC-BOP"
      },
      "source": [
        "## Data Cleaning and datatype conversion"
      ]
    },
    {
      "cell_type": "code",
      "metadata": {
        "id": "qoGT6GkDks5f"
      },
      "source": [
        "# Data Cleaning\n",
        "df_pujara = df_pujara[(df_pujara[\"Innings Runs Scored Num\"] != '-') & (pd.notnull(df_pujara[\"Innings Runs Scored Num\"]))]\n",
        "df_pujara = df_pujara[(df_pujara[\"Innings Minutes Batted\"] != '-') & (pd.notnull(df_pujara[\"Innings Minutes Batted\"]))]\n",
        "df_pujara = df_pujara[(df_pujara[\"Innings Balls Faced\"] != '-') & (pd.notnull(df_pujara[\"Innings Balls Faced\"]))]\n",
        "df_pujara = df_pujara[(df_pujara[\"Innings Boundary Fours\"] != '-') & (pd.notnull(df_pujara[\"Innings Boundary Fours\"]))]\n",
        "df_pujara = df_pujara[(df_pujara[\"Innings Boundary Sixes\"] != '-') & (pd.notnull(df_pujara[\"Innings Boundary Sixes\"]))]\n",
        "df_pujara = df_pujara[(df_pujara[\"Innings Batting Strike Rate\"] != '-') & (pd.notnull(df_pujara[\"Innings Batting Strike Rate\"]))]\n",
        "df_pujara = df_pujara[(df_pujara[\"Innings Number\"] != '-') & (pd.notnull(df_pujara[\"Innings Number\"]))]\n",
        "\n",
        "\n",
        "df_dravid = df_dravid[(df_dravid[\"Innings Runs Scored Num\"] != '-') & (pd.notnull(df_dravid[\"Innings Runs Scored Num\"]))]\n",
        "df_dravid = df_dravid[(df_dravid[\"Innings Minutes Batted\"] != '-') & (pd.notnull(df_dravid[\"Innings Minutes Batted\"]))]\n",
        "df_dravid = df_dravid[(df_dravid[\"Innings Balls Faced\"] != '-') & (pd.notnull(df_dravid[\"Innings Balls Faced\"]))]\n",
        "df_dravid = df_dravid[(df_dravid[\"Innings Boundary Fours\"] != '-') & (pd.notnull(df_dravid[\"Innings Boundary Fours\"]))]\n",
        "df_dravid = df_dravid[(df_dravid[\"Innings Boundary Sixes\"] != '-') & (pd.notnull(df_dravid[\"Innings Boundary Sixes\"]))]\n",
        "df_dravid = df_dravid[(df_dravid[\"Innings Batting Strike Rate\"] != '-') & (pd.notnull(df_dravid[\"Innings Batting Strike Rate\"]))]\n",
        "df_dravid = df_dravid[(df_dravid[\"Innings Number\"] != '-') & (pd.notnull(df_dravid[\"Innings Number\"]))]"
      ],
      "execution_count": null,
      "outputs": []
    },
    {
      "cell_type": "code",
      "metadata": {
        "colab": {
          "base_uri": "https://localhost:8080/"
        },
        "id": "EuWCtrSQGmxW",
        "outputId": "284d0113-105b-44a9-c175-28a3f4335eed"
      },
      "source": [
        "df_dravid[\"Innings Number\"].unique()"
      ],
      "execution_count": null,
      "outputs": [
        {
          "output_type": "execute_result",
          "data": {
            "text/plain": [
              "array(['2', '3', '1', '4'], dtype=object)"
            ]
          },
          "metadata": {
            "tags": []
          },
          "execution_count": 10
        }
      ]
    },
    {
      "cell_type": "code",
      "metadata": {
        "id": "2JxqC2ecobH_"
      },
      "source": [
        "df_dravid = df_dravid.astype({\n",
        "    \"Innings Runs Scored Num\": int,\n",
        "    \"Innings Minutes Batted\": float,\n",
        "    \"Innings Balls Faced\": int,\n",
        "    \"Innings Boundary Fours\": int,\n",
        "    \"Innings Boundary Sixes\": int,\n",
        "    \"Innings Batting Strike Rate\": float,\n",
        "    \"Innings Number\": int,\n",
        "})"
      ],
      "execution_count": null,
      "outputs": []
    },
    {
      "cell_type": "code",
      "metadata": {
        "id": "m7kBsOxIVjhd"
      },
      "source": [
        "df_pujara = df_pujara.astype({\n",
        "    \"Innings Runs Scored Num\": int,\n",
        "    \"Innings Minutes Batted\": float,\n",
        "    \"Innings Balls Faced\": int,\n",
        "    \"Innings Boundary Fours\": int,\n",
        "    \"Innings Boundary Sixes\": int,\n",
        "    \"Innings Batting Strike Rate\": float,\n",
        "    \"Innings Number\": int,\n",
        "})"
      ],
      "execution_count": null,
      "outputs": []
    },
    {
      "cell_type": "code",
      "metadata": {
        "id": "5mFAh3aiq-M1",
        "colab": {
          "base_uri": "https://localhost:8080/"
        },
        "outputId": "55176115-69e9-45a7-88ac-ea4b2e4a5dd1"
      },
      "source": [
        "df_dravid.dtypes"
      ],
      "execution_count": null,
      "outputs": [
        {
          "output_type": "execute_result",
          "data": {
            "text/plain": [
              "Innings Player                           object\n",
              "Innings Runs Scored                      object\n",
              "Innings Runs Scored Num                   int64\n",
              "Innings Minutes Batted                  float64\n",
              "Innings Batted Flag                     float64\n",
              "Innings Not Out Flag                    float64\n",
              "Innings Balls Faced                       int64\n",
              "Innings Boundary Fours                    int64\n",
              "Innings Boundary Sixes                    int64\n",
              "Innings Batting Strike Rate             float64\n",
              "Innings Number                            int64\n",
              "Opposition                               object\n",
              "Ground                                   object\n",
              "Innings Date                     datetime64[ns]\n",
              "Country                                  object\n",
              "50's                                    float64\n",
              "100's                                   float64\n",
              "Innings Runs Scored Buckets              object\n",
              "Innings Overs Bowled                     object\n",
              "Innings Bowled Flag                     float64\n",
              "Innings Maidens Bowled                   object\n",
              "Innings Runs Conceded                    object\n",
              "Innings Wickets Taken                    object\n",
              "4 Wickets                               float64\n",
              "5 Wickets                               float64\n",
              "10 Wickets                              float64\n",
              "Innings Wickets Taken Buckets            object\n",
              "Innings Economy Rate                     object\n",
              "year                                      int64\n",
              "dtype: object"
            ]
          },
          "metadata": {
            "tags": []
          },
          "execution_count": 13
        }
      ]
    },
    {
      "cell_type": "code",
      "metadata": {
        "colab": {
          "base_uri": "https://localhost:8080/"
        },
        "id": "qvJAF7LsVrFz",
        "outputId": "2f1c16d1-c71e-4a19-ffda-b2738b3dd0de"
      },
      "source": [
        "df_pujara.dtypes"
      ],
      "execution_count": null,
      "outputs": [
        {
          "output_type": "execute_result",
          "data": {
            "text/plain": [
              "Innings Player                           object\n",
              "Innings Runs Scored                      object\n",
              "Innings Runs Scored Num                   int64\n",
              "Innings Minutes Batted                  float64\n",
              "Innings Batted Flag                     float64\n",
              "Innings Not Out Flag                    float64\n",
              "Innings Balls Faced                       int64\n",
              "Innings Boundary Fours                    int64\n",
              "Innings Boundary Sixes                    int64\n",
              "Innings Batting Strike Rate             float64\n",
              "Innings Number                            int64\n",
              "Opposition                               object\n",
              "Ground                                   object\n",
              "Innings Date                     datetime64[ns]\n",
              "Country                                  object\n",
              "50's                                    float64\n",
              "100's                                   float64\n",
              "Innings Runs Scored Buckets              object\n",
              "Innings Overs Bowled                     object\n",
              "Innings Bowled Flag                     float64\n",
              "Innings Maidens Bowled                   object\n",
              "Innings Runs Conceded                    object\n",
              "Innings Wickets Taken                    object\n",
              "4 Wickets                               float64\n",
              "5 Wickets                               float64\n",
              "10 Wickets                              float64\n",
              "Innings Wickets Taken Buckets            object\n",
              "Innings Economy Rate                     object\n",
              "year                                      int64\n",
              "dtype: object"
            ]
          },
          "metadata": {
            "tags": []
          },
          "execution_count": 14
        }
      ]
    },
    {
      "cell_type": "markdown",
      "metadata": {
        "id": "OMaUGoXz93_c"
      },
      "source": [
        "## Filtering Dravid and Pujara\n"
      ]
    },
    {
      "cell_type": "code",
      "metadata": {
        "id": "1udHJAwrJVWO"
      },
      "source": [
        "# R Dravid\n",
        "# CA Pujara\n",
        "\n",
        "df_dravid2 = df_dravid[df_dravid[\"Innings Player\"] == \"R Dravid\"]\n",
        "df_pujara2 = df_pujara[df_pujara[\"Innings Player\"] == \"CA Pujara\"]"
      ],
      "execution_count": null,
      "outputs": []
    },
    {
      "cell_type": "code",
      "metadata": {
        "colab": {
          "base_uri": "https://localhost:8080/",
          "height": 360
        },
        "id": "02deTDSVLMrt",
        "outputId": "46773e54-f2a9-489f-8e7c-5059cea39c5c"
      },
      "source": [
        "df_pujara2.head()"
      ],
      "execution_count": null,
      "outputs": [
        {
          "output_type": "execute_result",
          "data": {
            "text/html": [
              "<div>\n",
              "<style scoped>\n",
              "    .dataframe tbody tr th:only-of-type {\n",
              "        vertical-align: middle;\n",
              "    }\n",
              "\n",
              "    .dataframe tbody tr th {\n",
              "        vertical-align: top;\n",
              "    }\n",
              "\n",
              "    .dataframe thead th {\n",
              "        text-align: right;\n",
              "    }\n",
              "</style>\n",
              "<table border=\"1\" class=\"dataframe\">\n",
              "  <thead>\n",
              "    <tr style=\"text-align: right;\">\n",
              "      <th></th>\n",
              "      <th>Innings Player</th>\n",
              "      <th>Innings Runs Scored</th>\n",
              "      <th>Innings Runs Scored Num</th>\n",
              "      <th>Innings Minutes Batted</th>\n",
              "      <th>Innings Batted Flag</th>\n",
              "      <th>Innings Not Out Flag</th>\n",
              "      <th>Innings Balls Faced</th>\n",
              "      <th>Innings Boundary Fours</th>\n",
              "      <th>Innings Boundary Sixes</th>\n",
              "      <th>Innings Batting Strike Rate</th>\n",
              "      <th>Innings Number</th>\n",
              "      <th>Opposition</th>\n",
              "      <th>Ground</th>\n",
              "      <th>Innings Date</th>\n",
              "      <th>Country</th>\n",
              "      <th>50's</th>\n",
              "      <th>100's</th>\n",
              "      <th>Innings Runs Scored Buckets</th>\n",
              "      <th>Innings Overs Bowled</th>\n",
              "      <th>Innings Bowled Flag</th>\n",
              "      <th>Innings Maidens Bowled</th>\n",
              "      <th>Innings Runs Conceded</th>\n",
              "      <th>Innings Wickets Taken</th>\n",
              "      <th>4 Wickets</th>\n",
              "      <th>5 Wickets</th>\n",
              "      <th>10 Wickets</th>\n",
              "      <th>Innings Wickets Taken Buckets</th>\n",
              "      <th>Innings Economy Rate</th>\n",
              "      <th>year</th>\n",
              "    </tr>\n",
              "  </thead>\n",
              "  <tbody>\n",
              "    <tr>\n",
              "      <th>33605</th>\n",
              "      <td>CA Pujara</td>\n",
              "      <td>206*</td>\n",
              "      <td>206</td>\n",
              "      <td>513.0</td>\n",
              "      <td>1.0</td>\n",
              "      <td>1.0</td>\n",
              "      <td>389</td>\n",
              "      <td>21</td>\n",
              "      <td>0</td>\n",
              "      <td>52.95</td>\n",
              "      <td>1</td>\n",
              "      <td>v England</td>\n",
              "      <td>Ahmedabad</td>\n",
              "      <td>2012-11-15</td>\n",
              "      <td>India</td>\n",
              "      <td>0.0</td>\n",
              "      <td>1.0</td>\n",
              "      <td>200+</td>\n",
              "      <td>NaN</td>\n",
              "      <td>NaN</td>\n",
              "      <td>NaN</td>\n",
              "      <td>NaN</td>\n",
              "      <td>NaN</td>\n",
              "      <td>NaN</td>\n",
              "      <td>NaN</td>\n",
              "      <td>NaN</td>\n",
              "      <td>NaN</td>\n",
              "      <td>NaN</td>\n",
              "      <td>2012</td>\n",
              "    </tr>\n",
              "    <tr>\n",
              "      <th>33607</th>\n",
              "      <td>CA Pujara</td>\n",
              "      <td>204</td>\n",
              "      <td>204</td>\n",
              "      <td>450.0</td>\n",
              "      <td>1.0</td>\n",
              "      <td>0.0</td>\n",
              "      <td>341</td>\n",
              "      <td>30</td>\n",
              "      <td>1</td>\n",
              "      <td>59.82</td>\n",
              "      <td>2</td>\n",
              "      <td>v Australia</td>\n",
              "      <td>Hyderabad (Deccan)</td>\n",
              "      <td>2013-03-02</td>\n",
              "      <td>India</td>\n",
              "      <td>0.0</td>\n",
              "      <td>1.0</td>\n",
              "      <td>200+</td>\n",
              "      <td>NaN</td>\n",
              "      <td>NaN</td>\n",
              "      <td>NaN</td>\n",
              "      <td>NaN</td>\n",
              "      <td>NaN</td>\n",
              "      <td>NaN</td>\n",
              "      <td>NaN</td>\n",
              "      <td>NaN</td>\n",
              "      <td>NaN</td>\n",
              "      <td>NaN</td>\n",
              "      <td>2013</td>\n",
              "    </tr>\n",
              "    <tr>\n",
              "      <th>33611</th>\n",
              "      <td>CA Pujara</td>\n",
              "      <td>202</td>\n",
              "      <td>202</td>\n",
              "      <td>672.0</td>\n",
              "      <td>1.0</td>\n",
              "      <td>0.0</td>\n",
              "      <td>525</td>\n",
              "      <td>21</td>\n",
              "      <td>0</td>\n",
              "      <td>38.47</td>\n",
              "      <td>2</td>\n",
              "      <td>v Australia</td>\n",
              "      <td>Ranchi</td>\n",
              "      <td>2017-03-16</td>\n",
              "      <td>India</td>\n",
              "      <td>0.0</td>\n",
              "      <td>1.0</td>\n",
              "      <td>200+</td>\n",
              "      <td>NaN</td>\n",
              "      <td>NaN</td>\n",
              "      <td>NaN</td>\n",
              "      <td>NaN</td>\n",
              "      <td>NaN</td>\n",
              "      <td>NaN</td>\n",
              "      <td>NaN</td>\n",
              "      <td>NaN</td>\n",
              "      <td>NaN</td>\n",
              "      <td>NaN</td>\n",
              "      <td>2017</td>\n",
              "    </tr>\n",
              "    <tr>\n",
              "      <th>33649</th>\n",
              "      <td>CA Pujara</td>\n",
              "      <td>159</td>\n",
              "      <td>159</td>\n",
              "      <td>468.0</td>\n",
              "      <td>1.0</td>\n",
              "      <td>0.0</td>\n",
              "      <td>306</td>\n",
              "      <td>19</td>\n",
              "      <td>1</td>\n",
              "      <td>51.96</td>\n",
              "      <td>1</td>\n",
              "      <td>v New Zealand</td>\n",
              "      <td>Hyderabad (Deccan)</td>\n",
              "      <td>2012-08-23</td>\n",
              "      <td>India</td>\n",
              "      <td>0.0</td>\n",
              "      <td>1.0</td>\n",
              "      <td>150-199</td>\n",
              "      <td>NaN</td>\n",
              "      <td>NaN</td>\n",
              "      <td>NaN</td>\n",
              "      <td>NaN</td>\n",
              "      <td>NaN</td>\n",
              "      <td>NaN</td>\n",
              "      <td>NaN</td>\n",
              "      <td>NaN</td>\n",
              "      <td>NaN</td>\n",
              "      <td>NaN</td>\n",
              "      <td>2012</td>\n",
              "    </tr>\n",
              "    <tr>\n",
              "      <th>33658</th>\n",
              "      <td>CA Pujara</td>\n",
              "      <td>153</td>\n",
              "      <td>153</td>\n",
              "      <td>353.0</td>\n",
              "      <td>1.0</td>\n",
              "      <td>0.0</td>\n",
              "      <td>270</td>\n",
              "      <td>21</td>\n",
              "      <td>0</td>\n",
              "      <td>56.66</td>\n",
              "      <td>3</td>\n",
              "      <td>v South Africa</td>\n",
              "      <td>Johannesburg</td>\n",
              "      <td>2013-12-18</td>\n",
              "      <td>India</td>\n",
              "      <td>0.0</td>\n",
              "      <td>1.0</td>\n",
              "      <td>150-199</td>\n",
              "      <td>NaN</td>\n",
              "      <td>NaN</td>\n",
              "      <td>NaN</td>\n",
              "      <td>NaN</td>\n",
              "      <td>NaN</td>\n",
              "      <td>NaN</td>\n",
              "      <td>NaN</td>\n",
              "      <td>NaN</td>\n",
              "      <td>NaN</td>\n",
              "      <td>NaN</td>\n",
              "      <td>2013</td>\n",
              "    </tr>\n",
              "  </tbody>\n",
              "</table>\n",
              "</div>"
            ],
            "text/plain": [
              "      Innings Player Innings Runs Scored  ...  Innings Economy Rate  year\n",
              "33605      CA Pujara                206*  ...                   NaN  2012\n",
              "33607      CA Pujara                 204  ...                   NaN  2013\n",
              "33611      CA Pujara                 202  ...                   NaN  2017\n",
              "33649      CA Pujara                 159  ...                   NaN  2012\n",
              "33658      CA Pujara                 153  ...                   NaN  2013\n",
              "\n",
              "[5 rows x 29 columns]"
            ]
          },
          "metadata": {
            "tags": []
          },
          "execution_count": 16
        }
      ]
    },
    {
      "cell_type": "code",
      "metadata": {
        "id": "pwFe376P9fvv"
      },
      "source": [
        ""
      ],
      "execution_count": null,
      "outputs": []
    },
    {
      "cell_type": "markdown",
      "metadata": {
        "id": "nnXO9w_P9hsC"
      },
      "source": [
        "## Comparision"
      ]
    },
    {
      "cell_type": "code",
      "metadata": {
        "id": "wkeewusgJd7U"
      },
      "source": [
        "class Wall:\n",
        "\n",
        "  def __init__(self, df):\n",
        "    self.df = df\n",
        "    self.total_innings = len(self.df)\n",
        "    self.total_balls = sum(self.df[\"Innings Balls Faced\"])\n",
        "    self.total_runs = sum(self.df[\"Innings Runs Scored Num\"])\n",
        "\n",
        "  # comparision parameter\n",
        "  def average(self):\n",
        "    outs = self.total_innings - sum(self.df[\"Innings Not Out Flag\"])\n",
        "    avg = self.total_runs / outs\n",
        "    return round(avg, 3)\n",
        "\n",
        "  def minutes_batted(self):\n",
        "    return sum(self.df[\"Innings Minutes Batted\"])\n",
        "\n",
        "  # comparision parameter\n",
        "  def minutes_batted_average(self):\n",
        "    return round(self.minutes_batted() / self.total_innings, 3)\n",
        "\n",
        "  # comparision parameter\n",
        "  def balls_faced_average(self):\n",
        "    return round(self.total_balls / self.total_innings, 3)\n",
        "\n",
        "  # comparision parameter\n",
        "  def inn_100(self):\n",
        "    return round(sum(self.df[\"100's\"]) / self.total_innings, 4)\n",
        "\n",
        "  # comparision parameter\n",
        "  def inn_50(self):\n",
        "    return round(sum(self.df[\"50's\"]) / self.total_innings, 4)\n",
        "  \n",
        "  # comparision parameter\n",
        "  def inn_150(self):\n",
        "    scored_150 = len(self.df[self.df[\"Innings Runs Scored Buckets\"] == \"150-199\"])\n",
        "    return round(scored_150 / self.total_innings, 4)\n",
        "\n",
        "  # comparision parameter\n",
        "  def inn_200(self):\n",
        "    scored_200 = len(self.df[self.df[\"Innings Runs Scored Buckets\"] == \"200+\"])\n",
        "    return round(scored_200 / self.total_innings, 4)\n",
        "\n",
        "  # comparision parameter\n",
        "  def balls_per_dismissal(self):\n",
        "    outs = self.total_innings - sum(self.df[\"Innings Not Out Flag\"])\n",
        "    return round(self.total_balls / outs, 3)\n",
        "\n",
        "  # comparision parameter\n",
        "  def strike_rate(self):\n",
        "    return round(100*self.total_runs / self.total_balls, 3)\n",
        "\n",
        "  \n",
        "\n",
        "  # def defend_precentage(self):\n",
        "  #   from differnet df \n",
        "\n",
        "\n",
        "  # def win_cause(self):\n",
        "  #   from differnet df \n",
        "\n",
        "\n",
        "  # def team_contribution(self):\n",
        "  #   pass\n",
        "\n",
        "\n",
        "\n"
      ],
      "execution_count": null,
      "outputs": []
    },
    {
      "cell_type": "code",
      "metadata": {
        "id": "-uPB-ljeKkUC"
      },
      "source": [
        "dravid = Wall(df_dravid2)\n",
        "pujara = Wall(df_pujara2)"
      ],
      "execution_count": null,
      "outputs": []
    },
    {
      "cell_type": "code",
      "metadata": {
        "id": "404YLvneQ1aT",
        "colab": {
          "base_uri": "https://localhost:8080/"
        },
        "outputId": "99735cf0-f928-4f5c-a355-aea2d6d486ac"
      },
      "source": [
        "dravid.average(), pujara.average()"
      ],
      "execution_count": null,
      "outputs": [
        {
          "output_type": "execute_result",
          "data": {
            "text/plain": [
              "(59.716, 50.578)"
            ]
          },
          "metadata": {
            "tags": []
          },
          "execution_count": 83
        }
      ]
    },
    {
      "cell_type": "code",
      "metadata": {
        "colab": {
          "base_uri": "https://localhost:8080/"
        },
        "id": "QtX_KuzRd8PJ",
        "outputId": "ec550be4-6cc2-4b71-9ef7-9aabf3b02549"
      },
      "source": [
        "dravid.minutes_batted_average(), pujara.minutes_batted_average()"
      ],
      "execution_count": null,
      "outputs": [
        {
          "output_type": "execute_result",
          "data": {
            "text/plain": [
              "(172.594, 142.873)"
            ]
          },
          "metadata": {
            "tags": []
          },
          "execution_count": 84
        }
      ]
    },
    {
      "cell_type": "code",
      "metadata": {
        "colab": {
          "base_uri": "https://localhost:8080/"
        },
        "id": "czjXJdlYdcT5",
        "outputId": "499693c1-ad9f-47d6-c8c6-313c36602f39"
      },
      "source": [
        "dravid.balls_faced_average(), pujara.balls_faced_average()"
      ],
      "execution_count": null,
      "outputs": [
        {
          "output_type": "execute_result",
          "data": {
            "text/plain": [
              "(123.323, 101.755)"
            ]
          },
          "metadata": {
            "tags": []
          },
          "execution_count": 85
        }
      ]
    },
    {
      "cell_type": "code",
      "metadata": {
        "colab": {
          "base_uri": "https://localhost:8080/"
        },
        "id": "GKxkNs0-dcRe",
        "outputId": "5723b899-1edf-4bc4-b852-658d4cb1e592"
      },
      "source": [
        "dravid.inn_100(), pujara.inn_100()"
      ],
      "execution_count": null,
      "outputs": [
        {
          "output_type": "execute_result",
          "data": {
            "text/plain": [
              "(0.1353, 0.1545)"
            ]
          },
          "metadata": {
            "tags": []
          },
          "execution_count": 86
        }
      ]
    },
    {
      "cell_type": "code",
      "metadata": {
        "colab": {
          "base_uri": "https://localhost:8080/"
        },
        "id": "HptHZmdLdcPP",
        "outputId": "b66995d9-87a0-4e76-e39a-80e962d21c24"
      },
      "source": [
        "dravid.inn_50(), pujara.inn_50()"
      ],
      "execution_count": null,
      "outputs": [
        {
          "output_type": "execute_result",
          "data": {
            "text/plain": [
              "(0.2406, 0.1727)"
            ]
          },
          "metadata": {
            "tags": []
          },
          "execution_count": 87
        }
      ]
    },
    {
      "cell_type": "code",
      "metadata": {
        "colab": {
          "base_uri": "https://localhost:8080/"
        },
        "id": "yRLZkAM-dcMw",
        "outputId": "d5d3e2f8-cc0f-4bf7-dba1-1eb44a9b6fcc"
      },
      "source": [
        "dravid.inn_150(), pujara.inn_150()"
      ],
      "execution_count": null,
      "outputs": [
        {
          "output_type": "execute_result",
          "data": {
            "text/plain": [
              "(0.0301, 0.0273)"
            ]
          },
          "metadata": {
            "tags": []
          },
          "execution_count": 88
        }
      ]
    },
    {
      "cell_type": "code",
      "metadata": {
        "colab": {
          "base_uri": "https://localhost:8080/"
        },
        "id": "uSKMVZr7dnlz",
        "outputId": "82d34676-1981-4fdf-e8cc-b30f5d393e88"
      },
      "source": [
        "dravid.inn_200(), pujara.inn_200()"
      ],
      "execution_count": null,
      "outputs": [
        {
          "output_type": "execute_result",
          "data": {
            "text/plain": [
              "(0.0376, 0.0273)"
            ]
          },
          "metadata": {
            "tags": []
          },
          "execution_count": 89
        }
      ]
    },
    {
      "cell_type": "code",
      "metadata": {
        "colab": {
          "base_uri": "https://localhost:8080/"
        },
        "id": "mWelkTVpdnjO",
        "outputId": "fb62d56e-a2bd-4924-8a55-d25623932fe9"
      },
      "source": [
        "dravid.balls_per_dismissal(), pujara.balls_per_dismissal()"
      ],
      "execution_count": null,
      "outputs": [
        {
          "output_type": "execute_result",
          "data": {
            "text/plain": [
              "(141.397, 109.735)"
            ]
          },
          "metadata": {
            "tags": []
          },
          "execution_count": 90
        }
      ]
    },
    {
      "cell_type": "code",
      "metadata": {
        "colab": {
          "base_uri": "https://localhost:8080/"
        },
        "id": "kVlRKZ5LdnhS",
        "outputId": "8c50bb48-d174-4902-a7f3-3093ca6e2992"
      },
      "source": [
        "dravid.strike_rate(), pujara.strike_rate()"
      ],
      "execution_count": null,
      "outputs": [
        {
          "output_type": "execute_result",
          "data": {
            "text/plain": [
              "(42.233, 46.091)"
            ]
          },
          "metadata": {
            "tags": []
          },
          "execution_count": 91
        }
      ]
    },
    {
      "cell_type": "code",
      "metadata": {
        "id": "j9zK29bh9d-Y"
      },
      "source": [
        ""
      ],
      "execution_count": null,
      "outputs": []
    },
    {
      "cell_type": "markdown",
      "metadata": {
        "id": "3HJIMi2V9Zig"
      },
      "source": [
        "## Plotting"
      ]
    },
    {
      "cell_type": "code",
      "metadata": {
        "id": "Cc52_g-h1M3p"
      },
      "source": [
        "averages = [dravid.average(), pujara.average(), \"Average\"]\n",
        "minutes_batted_average = [dravid.minutes_batted_average(), pujara.minutes_batted_average(), \"Minutes Batted Average\"]\n",
        "balls_faced_average = [dravid.balls_faced_average(), pujara.balls_faced_average(), \"Balls faced Average\"]\n",
        "inn_100 = [dravid.inn_100(), pujara.inn_100(), \"Innings per 100\"]\n",
        "inn_50 = [dravid.inn_50(), pujara.inn_50(), \"Innings per 50\"]\n",
        "inn_150 = [dravid.inn_150(), pujara.inn_150(), \"Innings per 150\"]\n",
        "inn_200 = [dravid.inn_200(), pujara.inn_200(), \"Innings per 200\"]\n",
        "balls_per_dismissal = [dravid.balls_per_dismissal(), pujara.balls_per_dismissal(), \"Balls per Dismissal\"]\n",
        "strike_rate = [dravid.strike_rate(), pujara.strike_rate(), \"Strike Rate\"]"
      ],
      "execution_count": null,
      "outputs": []
    },
    {
      "cell_type": "code",
      "metadata": {
        "id": "4SN0vk_p15Mv"
      },
      "source": [
        "import random\n",
        "\n",
        "def plot_fn(values):\n",
        "  colors = [\"#BF3325\", '#12B0E8', '#03203C', '#38CC77', \"#E5D68A\", \"#AF9D5A\", \"#8D3DAF\", '#6A1B4D']\n",
        "  names = [\"Dravid\", \"Pujara\"]\n",
        "\n",
        "  c = random.choice(colors)\n",
        "\n",
        "  plt.bar(x=names, height=values[:2], color=c);\n",
        "  plt.tight_layout()\n",
        "  plt.xlabel(\"Player Name\")\n",
        "  plt.ylabel(values[2])\n",
        "  plt.title(values[2], fontsize=16, y=1.05, loc='left', fontweight=\"bold\")\n",
        "  plt.title(\"by Kaushik Kakdey\", y=1.05, loc='right', fontsize=8, color='grey', style='italic')\n",
        "\n",
        "\n",
        "  for i in range(2):\n",
        "    plt.text(x=names[i], y=values[i], s=values[i], horizontalalignment='center', verticalalignment='center', backgroundcolor=\"white\")\n"
      ],
      "execution_count": null,
      "outputs": []
    },
    {
      "cell_type": "code",
      "metadata": {
        "colab": {
          "base_uri": "https://localhost:8080/",
          "height": 329
        },
        "id": "2EFnv-NvxFhG",
        "outputId": "bc1fd03a-89f0-4831-f018-801f11798069"
      },
      "source": [
        "plot_fn(averages)"
      ],
      "execution_count": null,
      "outputs": [
        {
          "output_type": "display_data",
          "data": {
            "image/png": "[encoded data removed]",
            "text/plain": [
              "<Figure size 432x288 with 1 Axes>"
            ]
          },
          "metadata": {
            "tags": []
          }
        }
      ]
    },
    {
      "cell_type": "code",
      "metadata": {
        "colab": {
          "base_uri": "https://localhost:8080/",
          "height": 329
        },
        "id": "VUP63LJq2RN9",
        "outputId": "15b7e40d-2b8a-4c4e-bb82-3bc9da642091"
      },
      "source": [
        "plot_fn(minutes_batted_average)"
      ],
      "execution_count": null,
      "outputs": [
        {
          "output_type": "display_data",
          "data": {
            "image/png": "[encoded data removed]",
            "text/plain": [
              "<Figure size 432x288 with 1 Axes>"
            ]
          },
          "metadata": {
            "tags": []
          }
        }
      ]
    },
    {
      "cell_type": "code",
      "metadata": {
        "colab": {
          "base_uri": "https://localhost:8080/",
          "height": 329
        },
        "id": "rRlkrqrB6NVq",
        "outputId": "72e480c8-d027-43ec-d02a-b29b6b8095f1"
      },
      "source": [
        "plot_fn(balls_faced_average)"
      ],
      "execution_count": null,
      "outputs": [
        {
          "output_type": "display_data",
          "data": {
            "image/png": "[encoded data removed]",
            "text/plain": [
              "<Figure size 432x288 with 1 Axes>"
            ]
          },
          "metadata": {
            "tags": []
          }
        }
      ]
    },
    {
      "cell_type": "code",
      "metadata": {
        "colab": {
          "base_uri": "https://localhost:8080/",
          "height": 328
        },
        "id": "u3GvS42K7Mia",
        "outputId": "6772f62e-7e28-4594-95b9-7c62567cee57"
      },
      "source": [
        "plot_fn(inn_100)"
      ],
      "execution_count": null,
      "outputs": [
        {
          "output_type": "display_data",
          "data": {
            "image/png": "[encoded data removed]",
            "text/plain": [
              "<Figure size 432x288 with 1 Axes>"
            ]
          },
          "metadata": {
            "tags": []
          }
        }
      ]
    },
    {
      "cell_type": "code",
      "metadata": {
        "colab": {
          "base_uri": "https://localhost:8080/",
          "height": 328
        },
        "id": "X5aSMzCA7MfL",
        "outputId": "f663c82e-a129-4ca2-a7e5-2fa5fcd4f31e"
      },
      "source": [
        "plot_fn(inn_50)"
      ],
      "execution_count": null,
      "outputs": [
        {
          "output_type": "display_data",
          "data": {
            "image/png": "[encoded data removed]",
            "text/plain": [
              "<Figure size 432x288 with 1 Axes>"
            ]
          },
          "metadata": {
            "tags": []
          }
        }
      ]
    },
    {
      "cell_type": "code",
      "metadata": {
        "colab": {
          "base_uri": "https://localhost:8080/",
          "height": 329
        },
        "id": "XKmbhO-37Mc9",
        "outputId": "9761f8b8-59ce-443b-f67f-a4e914411aca"
      },
      "source": [
        "plot_fn(inn_150)"
      ],
      "execution_count": null,
      "outputs": [
        {
          "output_type": "display_data",
          "data": {
            "image/png": "[encoded data removed]",
            "text/plain": [
              "<Figure size 432x288 with 1 Axes>"
            ]
          },
          "metadata": {
            "tags": []
          }
        }
      ]
    },
    {
      "cell_type": "code",
      "metadata": {
        "colab": {
          "base_uri": "https://localhost:8080/",
          "height": 329
        },
        "id": "HC-0Z-D_7Ma1",
        "outputId": "56f3a76b-4c37-4d7b-8d25-89a4e63b07a4"
      },
      "source": [
        "plot_fn(inn_200)"
      ],
      "execution_count": null,
      "outputs": [
        {
          "output_type": "display_data",
          "data": {
            "image/png": "[encoded data removed]",
            "text/plain": [
              "<Figure size 432x288 with 1 Axes>"
            ]
          },
          "metadata": {
            "tags": []
          }
        }
      ]
    },
    {
      "cell_type": "code",
      "metadata": {
        "colab": {
          "base_uri": "https://localhost:8080/",
          "height": 329
        },
        "id": "gY36LKBH7MYr",
        "outputId": "3afe9ca5-1bf0-4b2b-a961-d37b7f16d4b6"
      },
      "source": [
        "plot_fn(balls_per_dismissal)"
      ],
      "execution_count": null,
      "outputs": [
        {
          "output_type": "display_data",
          "data": {
            "image/png": "[encoded data removed]",
            "text/plain": [
              "<Figure size 432x288 with 1 Axes>"
            ]
          },
          "metadata": {
            "tags": []
          }
        }
      ]
    },
    {
      "cell_type": "code",
      "metadata": {
        "colab": {
          "base_uri": "https://localhost:8080/",
          "height": 329
        },
        "id": "34vgWFQK7MMW",
        "outputId": "74b26847-55fb-4228-a311-f810d6fa6738"
      },
      "source": [
        "plot_fn(strike_rate)"
      ],
      "execution_count": null,
      "outputs": [
        {
          "output_type": "display_data",
          "data": {
            "image/png": "[encoded data removed]",
            "text/plain": [
              "<Figure size 432x288 with 1 Axes>"
            ]
          },
          "metadata": {
            "tags": []
          }
        }
      ]
    }
  ]
}